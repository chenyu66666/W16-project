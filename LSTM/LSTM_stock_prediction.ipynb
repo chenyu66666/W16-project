{
  "metadata": {
    "kernelspec": {
      "language": "python",
      "display_name": "Python 3",
      "name": "python3"
    },
    "language_info": {
      "name": "python",
      "version": "3.10.14",
      "mimetype": "text/x-python",
      "codemirror_mode": {
        "name": "ipython",
        "version": 3
      },
      "pygments_lexer": "ipython3",
      "nbconvert_exporter": "python",
      "file_extension": ".py"
    },
    "kaggle": {
      "accelerator": "none",
      "dataSources": [
        {
          "sourceId": 7213,
          "sourceType": "datasetVersion",
          "datasetId": 4538
        }
      ],
      "dockerImageVersionId": 30804,
      "isInternetEnabled": false,
      "language": "python",
      "sourceType": "notebook",
      "isGpuEnabled": false
    },
    "colab": {
      "name": "LSTM stock prediction",
      "provenance": [],
      "include_colab_link": true
    }
  },
  "nbformat_minor": 0,
  "nbformat": 4,
  "cells": [
    {
      "cell_type": "markdown",
      "metadata": {
        "id": "view-in-github",
        "colab_type": "text"
      },
      "source": [
        "<a href=\"https://colab.research.google.com/github/chenyu66666/W16-project/blob/master/LSTM/LSTM_stock_prediction.ipynb\" target=\"_parent\"><img src=\"https://colab.research.google.com/assets/colab-badge.svg\" alt=\"Open In Colab\"/></a>"
      ]
    },
    {
      "source": [
        "# IMPORTANT: RUN THIS CELL IN ORDER TO IMPORT YOUR KAGGLE DATA SOURCES,\n",
        "# THEN FEEL FREE TO DELETE THIS CELL.\n",
        "# NOTE: THIS NOTEBOOK ENVIRONMENT DIFFERS FROM KAGGLE'S PYTHON\n",
        "# ENVIRONMENT SO THERE MAY BE MISSING LIBRARIES USED BY YOUR\n",
        "# NOTEBOOK.\n",
        "import kagglehub\n",
        "borismarjanovic_price_volume_data_for_all_us_stocks_etfs_path = kagglehub.dataset_download('borismarjanovic/price-volume-data-for-all-us-stocks-etfs')\n",
        "\n",
        "print('Data source import complete.')\n"
      ],
      "metadata": {
        "id": "hpCSchv2ewtD"
      },
      "cell_type": "code",
      "outputs": [],
      "execution_count": null
    },
    {
      "cell_type": "markdown",
      "source": [
        "In this notebook we will be building and training LSTM to predict IBM stock. We will use PyTorch."
      ],
      "metadata": {
        "_uuid": "91e741e3-0b5a-4d10-a22e-fab5924337e5",
        "_cell_guid": "fc7bf9a0-e26b-4de5-8db7-7a410a9c31d1",
        "trusted": true,
        "id": "lqzk22e7ewtF"
      }
    },
    {
      "cell_type": "markdown",
      "source": [
        "## 1. Libraries and settings"
      ],
      "metadata": {
        "id": "qtNPA_ODewtG"
      }
    },
    {
      "cell_type": "code",
      "source": [
        "import numpy as np\n",
        "import random\n",
        "import pandas as pd\n",
        "from pylab import mpl, plt\n",
        "import seaborn as sns  # 匯入 seaborn 來設置樣式\n",
        "sns.set(style='whitegrid')  # 設置 seaborn 样式\n",
        "mpl.rcParams['font.family'] = 'serif'\n",
        "\n",
        "# 使用 Python 的標準 datetime 模組，而不是 pandas.datetime\n",
        "import datetime\n",
        "import math, time\n",
        "import itertools\n",
        "from operator import itemgetter\n",
        "from sklearn.metrics import mean_squared_error\n",
        "from sklearn.preprocessing import MinMaxScaler\n",
        "from math import sqrt\n",
        "import torch\n",
        "import torch.nn as nn\n",
        "from torch.autograd import Variable\n",
        "\n",
        "import os\n",
        "for dirname, _, filenames in os.walk('/kaggle/input'):\n",
        "    for i, filename in enumerate(filenames):\n",
        "        if i < 5:\n",
        "            print(os.path.join(dirname, filename))\n"
      ],
      "metadata": {
        "trusted": true,
        "execution": {
          "iopub.status.busy": "2024-12-10T06:30:16.929508Z",
          "iopub.execute_input": "2024-12-10T06:30:16.929916Z",
          "iopub.status.idle": "2024-12-10T06:31:01.790139Z",
          "shell.execute_reply.started": "2024-12-10T06:30:16.929879Z",
          "shell.execute_reply": "2024-12-10T06:31:01.789007Z"
        },
        "id": "JERYUjJcewtG"
      },
      "outputs": [],
      "execution_count": null
    },
    {
      "cell_type": "markdown",
      "source": [
        "## 2. Load data"
      ],
      "metadata": {
        "id": "oea0opB9ewtH"
      }
    },
    {
      "cell_type": "code",
      "source": [
        "!pwd"
      ],
      "metadata": {
        "trusted": true,
        "execution": {
          "iopub.status.busy": "2024-12-10T06:33:13.272079Z",
          "iopub.execute_input": "2024-12-10T06:33:13.272472Z",
          "iopub.status.idle": "2024-12-10T06:33:14.36345Z",
          "shell.execute_reply.started": "2024-12-10T06:33:13.27244Z",
          "shell.execute_reply": "2024-12-10T06:33:14.362045Z"
        },
        "id": "eedGZ6WZewtH"
      },
      "outputs": [],
      "execution_count": null
    },
    {
      "cell_type": "code",
      "source": [
        "def stocks_data(symbols, dates):\n",
        "    df = pd.DataFrame(index=dates)\n",
        "    for symbol in symbols:\n",
        "        df_temp = pd.read_csv(\"../input/Data/Stocks/{}.us.txt\".format(symbol), index_col='Date',\n",
        "                parse_dates=True, usecols=['Date', 'Close'], na_values=['nan'])\n",
        "        df_temp = df_temp.rename(columns={'Close': symbol})\n",
        "        df = df.join(df_temp)\n",
        "    return df"
      ],
      "metadata": {
        "trusted": true,
        "execution": {
          "iopub.status.busy": "2024-12-10T06:31:10.070044Z",
          "iopub.execute_input": "2024-12-10T06:31:10.071294Z",
          "iopub.status.idle": "2024-12-10T06:31:10.077308Z",
          "shell.execute_reply.started": "2024-12-10T06:31:10.071235Z",
          "shell.execute_reply": "2024-12-10T06:31:10.07606Z"
        },
        "id": "lJaVnllcewtH"
      },
      "outputs": [],
      "execution_count": null
    },
    {
      "cell_type": "code",
      "source": [
        "dates = pd.date_range('2015-01-02','2016-12-31',freq='B')\n",
        "symbols = ['goog','ibm','aapl']\n",
        "df = stocks_data(symbols, dates)\n",
        "df.fillna(method='pad')\n",
        "#df.plot(figsize=(10, 6), subplot=True);\n",
        "df.plot(figsize=(10,6))"
      ],
      "metadata": {
        "trusted": true,
        "execution": {
          "iopub.status.busy": "2024-12-10T06:31:13.140307Z",
          "iopub.execute_input": "2024-12-10T06:31:13.140681Z",
          "iopub.status.idle": "2024-12-10T06:31:13.875715Z",
          "shell.execute_reply.started": "2024-12-10T06:31:13.140648Z",
          "shell.execute_reply": "2024-12-10T06:31:13.874547Z"
        },
        "id": "vDDVEJNzewtH"
      },
      "outputs": [],
      "execution_count": null
    },
    {
      "cell_type": "code",
      "source": [
        "df.head()"
      ],
      "metadata": {
        "trusted": true,
        "execution": {
          "iopub.status.busy": "2024-12-10T06:31:18.048156Z",
          "iopub.execute_input": "2024-12-10T06:31:18.048548Z",
          "iopub.status.idle": "2024-12-10T06:31:18.065083Z",
          "shell.execute_reply.started": "2024-12-10T06:31:18.048515Z",
          "shell.execute_reply": "2024-12-10T06:31:18.063842Z"
        },
        "id": "LElh-7ClewtH"
      },
      "outputs": [],
      "execution_count": null
    },
    {
      "cell_type": "code",
      "source": [
        "dates = pd.date_range('2010-01-02','2017-10-11',freq='B')\n",
        "df1=pd.DataFrame(index=dates)\n",
        "df_ibm=pd.read_csv(\"../input/Data/Stocks/ibm.us.txt\", parse_dates=True, index_col=0)\n",
        "df_ibm=df1.join(df_ibm)\n",
        "df_ibm[['Close']].plot(figsize=(15, 6))\n",
        "plt.ylabel(\"stock_price\")\n",
        "plt.title(\"IBM Stock\")\n",
        "plt.show()"
      ],
      "metadata": {
        "trusted": true,
        "execution": {
          "iopub.status.busy": "2024-12-10T06:31:20.536151Z",
          "iopub.execute_input": "2024-12-10T06:31:20.536566Z",
          "iopub.status.idle": "2024-12-10T06:31:21.137523Z",
          "shell.execute_reply.started": "2024-12-10T06:31:20.53653Z",
          "shell.execute_reply": "2024-12-10T06:31:21.136273Z"
        },
        "id": "u5R6RFruewtI"
      },
      "outputs": [],
      "execution_count": null
    },
    {
      "cell_type": "code",
      "source": [
        "df_ibm=df_ibm[['Close']]\n",
        "df_ibm.info()"
      ],
      "metadata": {
        "trusted": true,
        "execution": {
          "iopub.status.busy": "2024-12-10T06:31:24.832409Z",
          "iopub.execute_input": "2024-12-10T06:31:24.833483Z",
          "iopub.status.idle": "2024-12-10T06:31:24.855262Z",
          "shell.execute_reply.started": "2024-12-10T06:31:24.83344Z",
          "shell.execute_reply": "2024-12-10T06:31:24.853897Z"
        },
        "id": "lVrn1VV2ewtI"
      },
      "outputs": [],
      "execution_count": null
    },
    {
      "cell_type": "code",
      "source": [
        "df_ibm=df_ibm.fillna(method='ffill')\n",
        "\n",
        "scaler = MinMaxScaler(feature_range=(-1, 1))\n",
        "df_ibm['Close'] = scaler.fit_transform(df_ibm['Close'].values.reshape(-1,1))\n",
        "#df_ibm"
      ],
      "metadata": {
        "trusted": true,
        "execution": {
          "iopub.status.busy": "2024-12-10T06:31:31.559579Z",
          "iopub.execute_input": "2024-12-10T06:31:31.559978Z",
          "iopub.status.idle": "2024-12-10T06:31:31.567717Z",
          "shell.execute_reply.started": "2024-12-10T06:31:31.559943Z",
          "shell.execute_reply": "2024-12-10T06:31:31.566686Z"
        },
        "id": "uFHvZGUOewtI"
      },
      "outputs": [],
      "execution_count": null
    },
    {
      "cell_type": "code",
      "source": [
        "# function to create train, test data given stock data and sequence length\n",
        "def load_data(stock, look_back):\n",
        "    data_raw = stock.values # convert to numpy array\n",
        "    data = []\n",
        "\n",
        "    # create all possible sequences of length look_back\n",
        "    for index in range(len(data_raw) - look_back):\n",
        "        data.append(data_raw[index: index + look_back])\n",
        "\n",
        "    data = np.array(data);\n",
        "    test_set_size = int(np.round(0.2*data.shape[0]));\n",
        "    train_set_size = data.shape[0] - (test_set_size);\n",
        "\n",
        "    x_train = data[:train_set_size,:-1,:]\n",
        "    y_train = data[:train_set_size,-1,:]\n",
        "\n",
        "    x_test = data[train_set_size:,:-1]\n",
        "    y_test = data[train_set_size:,-1,:]\n",
        "\n",
        "    return [x_train, y_train, x_test, y_test]\n",
        "\n",
        "look_back = 60 # choose sequence length\n",
        "x_train, y_train, x_test, y_test = load_data(df_ibm, look_back)\n",
        "print('x_train.shape = ',x_train.shape)\n",
        "print('y_train.shape = ',y_train.shape)\n",
        "print('x_test.shape = ',x_test.shape)\n",
        "print('y_test.shape = ',y_test.shape)"
      ],
      "metadata": {
        "trusted": true,
        "execution": {
          "iopub.status.busy": "2024-12-10T06:31:35.429596Z",
          "iopub.execute_input": "2024-12-10T06:31:35.429987Z",
          "iopub.status.idle": "2024-12-10T06:31:35.442909Z",
          "shell.execute_reply.started": "2024-12-10T06:31:35.429952Z",
          "shell.execute_reply": "2024-12-10T06:31:35.441656Z"
        },
        "id": "kS_YmZLGewtI"
      },
      "outputs": [],
      "execution_count": null
    },
    {
      "cell_type": "code",
      "source": [
        "# make training and test sets in torch\n",
        "x_train = torch.from_numpy(x_train).type(torch.Tensor)\n",
        "x_test = torch.from_numpy(x_test).type(torch.Tensor)\n",
        "y_train = torch.from_numpy(y_train).type(torch.Tensor)\n",
        "y_test = torch.from_numpy(y_test).type(torch.Tensor)"
      ],
      "metadata": {
        "trusted": true,
        "execution": {
          "iopub.status.busy": "2024-12-10T06:31:38.849121Z",
          "iopub.execute_input": "2024-12-10T06:31:38.849549Z",
          "iopub.status.idle": "2024-12-10T06:31:38.891124Z",
          "shell.execute_reply.started": "2024-12-10T06:31:38.849512Z",
          "shell.execute_reply": "2024-12-10T06:31:38.889982Z"
        },
        "id": "1CSLwK0sewtI"
      },
      "outputs": [],
      "execution_count": null
    },
    {
      "cell_type": "code",
      "source": [
        "y_train.size(),x_train.size()"
      ],
      "metadata": {
        "trusted": true,
        "execution": {
          "iopub.status.busy": "2024-12-10T06:31:40.912254Z",
          "iopub.execute_input": "2024-12-10T06:31:40.91263Z",
          "iopub.status.idle": "2024-12-10T06:31:40.920489Z",
          "shell.execute_reply.started": "2024-12-10T06:31:40.912596Z",
          "shell.execute_reply": "2024-12-10T06:31:40.919247Z"
        },
        "id": "qC7ccVU5ewtI"
      },
      "outputs": [],
      "execution_count": null
    },
    {
      "cell_type": "markdown",
      "source": [
        "## 3. Build the structure of model"
      ],
      "metadata": {
        "id": "lIvtmlehewtI"
      }
    },
    {
      "cell_type": "code",
      "source": [
        "# Build model\n",
        "#####################\n",
        "input_dim = 1\n",
        "hidden_dim = 32\n",
        "num_layers = 2\n",
        "output_dim = 1\n",
        "\n",
        "\n",
        "# Here we define our model as a class\n",
        "class LSTM(nn.Module):\n",
        "    def __init__(self, input_dim, hidden_dim, num_layers, output_dim):\n",
        "        super(LSTM, self).__init__()\n",
        "        # Hidden dimensions\n",
        "        self.hidden_dim = hidden_dim\n",
        "\n",
        "        # Number of hidden layers\n",
        "        self.num_layers = num_layers\n",
        "\n",
        "        # batch_first=True causes input/output tensors to be of shape\n",
        "        # (batch_dim, seq_dim, feature_dim)\n",
        "        self.lstm = nn.LSTM(input_dim, hidden_dim, num_layers, batch_first=True)\n",
        "\n",
        "        # Readout layer\n",
        "        self.fc = nn.Linear(hidden_dim, output_dim)\n",
        "\n",
        "    def forward(self, x):\n",
        "        # Initialize hidden state with zeros\n",
        "        h0 = torch.zeros(self.num_layers, x.size(0), self.hidden_dim).requires_grad_()\n",
        "\n",
        "        # Initialize cell state\n",
        "        c0 = torch.zeros(self.num_layers, x.size(0), self.hidden_dim).requires_grad_()\n",
        "\n",
        "        # We need to detach as we are doing truncated backpropagation through time (BPTT)\n",
        "        # If we don't, we'll backprop all the way to the start even after going through another batch\n",
        "        out, (hn, cn) = self.lstm(x, (h0.detach(), c0.detach()))\n",
        "\n",
        "        # Index hidden state of last time step\n",
        "        # out.size() --> 100, 32, 100\n",
        "        # out[:, -1, :] --> 100, 100 --> just want last time step hidden states!\n",
        "        out = self.fc(out[:, -1, :])\n",
        "        # out.size() --> 100, 10\n",
        "        return out\n",
        "\n",
        "model = LSTM(input_dim=input_dim, hidden_dim=hidden_dim, output_dim=output_dim, num_layers=num_layers)\n",
        "\n",
        "loss_fn = torch.nn.MSELoss()\n",
        "\n",
        "optimiser = torch.optim.Adam(model.parameters(), lr=0.01)\n",
        "print(model)\n",
        "print(len(list(model.parameters())))\n",
        "for i in range(len(list(model.parameters()))):\n",
        "    print(list(model.parameters())[i].size())"
      ],
      "metadata": {
        "trusted": true,
        "execution": {
          "iopub.status.busy": "2024-12-10T06:31:43.640618Z",
          "iopub.execute_input": "2024-12-10T06:31:43.641125Z",
          "iopub.status.idle": "2024-12-10T06:31:44.806685Z",
          "shell.execute_reply.started": "2024-12-10T06:31:43.641076Z",
          "shell.execute_reply": "2024-12-10T06:31:44.805576Z"
        },
        "id": "nXPopF2MewtI"
      },
      "outputs": [],
      "execution_count": null
    },
    {
      "cell_type": "code",
      "source": [
        "# Train model\n",
        "#####################\n",
        "num_epochs = 100\n",
        "hist = np.zeros(num_epochs)\n",
        "\n",
        "# Number of steps to unroll\n",
        "seq_dim =look_back-1\n",
        "\n",
        "for t in range(num_epochs):\n",
        "    # Initialise hidden state\n",
        "    # Don't do this if you want your LSTM to be stateful\n",
        "    #model.hidden = model.init_hidden()\n",
        "\n",
        "    # Forward pass\n",
        "    y_train_pred = model(x_train)\n",
        "\n",
        "    loss = loss_fn(y_train_pred, y_train)\n",
        "    if t % 10 == 0 and t !=0:\n",
        "        print(\"Epoch \", t, \"MSE: \", loss.item())\n",
        "    hist[t] = loss.item()\n",
        "\n",
        "    # Zero out gradient, else they will accumulate between epochs\n",
        "    optimiser.zero_grad()\n",
        "\n",
        "    # Backward pass\n",
        "    loss.backward()\n",
        "\n",
        "    # Update parameters\n",
        "    optimiser.step()"
      ],
      "metadata": {
        "trusted": true,
        "execution": {
          "iopub.status.busy": "2024-12-10T06:31:48.958147Z",
          "iopub.execute_input": "2024-12-10T06:31:48.958735Z",
          "iopub.status.idle": "2024-12-10T06:32:32.376884Z",
          "shell.execute_reply.started": "2024-12-10T06:31:48.958697Z",
          "shell.execute_reply": "2024-12-10T06:32:32.375416Z"
        },
        "id": "VTatpNj6ewtI"
      },
      "outputs": [],
      "execution_count": null
    },
    {
      "cell_type": "code",
      "source": [
        "plt.plot(hist, label=\"Training loss\")\n",
        "plt.legend()\n",
        "plt.show()"
      ],
      "metadata": {
        "trusted": true,
        "execution": {
          "iopub.status.busy": "2024-12-10T06:32:48.270595Z",
          "iopub.execute_input": "2024-12-10T06:32:48.271023Z",
          "iopub.status.idle": "2024-12-10T06:32:48.584701Z",
          "shell.execute_reply.started": "2024-12-10T06:32:48.270984Z",
          "shell.execute_reply": "2024-12-10T06:32:48.58353Z"
        },
        "id": "TKi6pXFzewtI"
      },
      "outputs": [],
      "execution_count": null
    },
    {
      "cell_type": "code",
      "source": [
        "np.shape(y_train_pred)"
      ],
      "metadata": {
        "trusted": true,
        "execution": {
          "iopub.status.busy": "2024-12-10T06:32:52.031541Z",
          "iopub.execute_input": "2024-12-10T06:32:52.032028Z",
          "iopub.status.idle": "2024-12-10T06:32:52.040409Z",
          "shell.execute_reply.started": "2024-12-10T06:32:52.031978Z",
          "shell.execute_reply": "2024-12-10T06:32:52.039026Z"
        },
        "id": "sMEKbReYewtI"
      },
      "outputs": [],
      "execution_count": null
    },
    {
      "cell_type": "code",
      "source": [
        "# make predictions\n",
        "y_test_pred = model(x_test)\n",
        "\n",
        "# invert predictions\n",
        "y_train_pred = scaler.inverse_transform(y_train_pred.detach().numpy())\n",
        "y_train = scaler.inverse_transform(y_train.detach().numpy())\n",
        "y_test_pred = scaler.inverse_transform(y_test_pred.detach().numpy())\n",
        "y_test = scaler.inverse_transform(y_test.detach().numpy())\n",
        "\n",
        "# calculate root mean squared error\n",
        "trainScore = math.sqrt(mean_squared_error(y_train[:,0], y_train_pred[:,0]))\n",
        "print('Train Score: %.2f RMSE' % (trainScore))\n",
        "testScore = math.sqrt(mean_squared_error(y_test[:,0], y_test_pred[:,0]))\n",
        "print('Test Score: %.2f RMSE' % (testScore))"
      ],
      "metadata": {
        "trusted": true,
        "execution": {
          "iopub.status.busy": "2024-12-10T06:32:54.60669Z",
          "iopub.execute_input": "2024-12-10T06:32:54.607099Z",
          "iopub.status.idle": "2024-12-10T06:32:54.673381Z",
          "shell.execute_reply.started": "2024-12-10T06:32:54.60706Z",
          "shell.execute_reply": "2024-12-10T06:32:54.671993Z"
        },
        "id": "OhVK28BcewtI"
      },
      "outputs": [],
      "execution_count": null
    },
    {
      "cell_type": "code",
      "source": [
        "# Visualising the results\n",
        "figure, axes = plt.subplots(figsize=(15, 6))\n",
        "axes.xaxis_date()\n",
        "\n",
        "axes.plot(df_ibm[len(df_ibm)-len(y_test):].index, y_test, color = 'red', label = 'Real IBM Stock Price')\n",
        "axes.plot(df_ibm[len(df_ibm)-len(y_test):].index, y_test_pred, color = 'blue', label = 'Predicted IBM Stock Price')\n",
        "#axes.xticks(np.arange(0,394,50))\n",
        "plt.title('IBM Stock Price Prediction')\n",
        "plt.xlabel('Time')\n",
        "plt.ylabel('IBM Stock Price')\n",
        "plt.legend()\n",
        "plt.savefig('ibm_pred.png')\n",
        "plt.show()"
      ],
      "metadata": {
        "trusted": true,
        "execution": {
          "iopub.status.busy": "2024-12-10T06:32:56.825107Z",
          "iopub.execute_input": "2024-12-10T06:32:56.825543Z",
          "iopub.status.idle": "2024-12-10T06:32:57.674342Z",
          "shell.execute_reply.started": "2024-12-10T06:32:56.825505Z",
          "shell.execute_reply": "2024-12-10T06:32:57.672955Z"
        },
        "id": "hBqRF0NIewtJ"
      },
      "outputs": [],
      "execution_count": null
    }
  ]
}